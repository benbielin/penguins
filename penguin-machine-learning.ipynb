{
 "cells": [
  {
   "cell_type": "code",
   "execution_count": 1,
   "id": "d51a9468",
   "metadata": {
    "_execution_state": "idle",
    "_uuid": "051d70d956493feee0c6d64651c6a088724dca2a",
    "execution": {
     "iopub.execute_input": "2022-08-03T05:57:41.492213Z",
     "iopub.status.busy": "2022-08-03T05:57:41.490265Z",
     "iopub.status.idle": "2022-08-03T05:57:43.003106Z",
     "shell.execute_reply": "2022-08-03T05:57:43.001257Z"
    },
    "papermill": {
     "duration": 1.520338,
     "end_time": "2022-08-03T05:57:43.005797",
     "exception": false,
     "start_time": "2022-08-03T05:57:41.485459",
     "status": "completed"
    },
    "tags": []
   },
   "outputs": [
    {
     "name": "stderr",
     "output_type": "stream",
     "text": [
      "── \u001b[1mAttaching packages\u001b[22m ─────────────────────────────────────── tidyverse 1.3.1 ──\n",
      "\n",
      "\u001b[32m✔\u001b[39m \u001b[34mggplot2\u001b[39m 3.3.6     \u001b[32m✔\u001b[39m \u001b[34mpurrr  \u001b[39m 0.3.4\n",
      "\u001b[32m✔\u001b[39m \u001b[34mtibble \u001b[39m 3.1.7     \u001b[32m✔\u001b[39m \u001b[34mdplyr  \u001b[39m 1.0.9\n",
      "\u001b[32m✔\u001b[39m \u001b[34mtidyr  \u001b[39m 1.2.0     \u001b[32m✔\u001b[39m \u001b[34mstringr\u001b[39m 1.4.0\n",
      "\u001b[32m✔\u001b[39m \u001b[34mreadr  \u001b[39m 2.1.2     \u001b[32m✔\u001b[39m \u001b[34mforcats\u001b[39m 0.5.1\n",
      "\n",
      "── \u001b[1mConflicts\u001b[22m ────────────────────────────────────────── tidyverse_conflicts() ──\n",
      "\u001b[31m✖\u001b[39m \u001b[34mdplyr\u001b[39m::\u001b[32mfilter()\u001b[39m masks \u001b[34mstats\u001b[39m::filter()\n",
      "\u001b[31m✖\u001b[39m \u001b[34mdplyr\u001b[39m::\u001b[32mlag()\u001b[39m    masks \u001b[34mstats\u001b[39m::lag()\n",
      "\n"
     ]
    },
    {
     "data": {
      "text/html": [
       "'palmer-archipelago-antarctica-penguin-data'"
      ],
      "text/latex": [
       "'palmer-archipelago-antarctica-penguin-data'"
      ],
      "text/markdown": [
       "'palmer-archipelago-antarctica-penguin-data'"
      ],
      "text/plain": [
       "[1] \"palmer-archipelago-antarctica-penguin-data\""
      ]
     },
     "metadata": {},
     "output_type": "display_data"
    }
   ],
   "source": [
    "# This R environment comes with many helpful analytics packages installed\n",
    "# It is defined by the kaggle/rstats Docker image: https://github.com/kaggle/docker-rstats\n",
    "# For example, here's a helpful package to load\n",
    "\n",
    "library(tidyverse) # metapackage of all tidyverse packages\n",
    "\n",
    "# Input data files are available in the read-only \"../input/\" directory\n",
    "# For example, running this (by clicking run or pressing Shift+Enter) will list all files under the input directory\n",
    "\n",
    "list.files(path = \"../input\")\n",
    "\n",
    "# You can write up to 20GB to the current directory (/kaggle/working/) that gets preserved as output when you create a version using \"Save & Run All\" \n",
    "# You can also write temporary files to /kaggle/temp/, but they won't be saved outside of the current session"
   ]
  },
  {
   "cell_type": "markdown",
   "id": "655e5326",
   "metadata": {
    "papermill": {
     "duration": 0.001982,
     "end_time": "2022-08-03T05:57:43.009842",
     "exception": false,
     "start_time": "2022-08-03T05:57:43.007860",
     "status": "completed"
    },
    "tags": []
   },
   "source": [
    "This is a follow up to the first penguin notebook in R. This notebook is also in R, but will be focused on Machine Learning."
   ]
  },
  {
   "cell_type": "code",
   "execution_count": null,
   "id": "a57a4d69",
   "metadata": {
    "papermill": {
     "duration": 0.001867,
     "end_time": "2022-08-03T05:57:43.013460",
     "exception": false,
     "start_time": "2022-08-03T05:57:43.011593",
     "status": "completed"
    },
    "tags": []
   },
   "outputs": [],
   "source": []
  }
 ],
 "metadata": {
  "kernelspec": {
   "display_name": "R",
   "language": "R",
   "name": "ir"
  },
  "language_info": {
   "codemirror_mode": "r",
   "file_extension": ".r",
   "mimetype": "text/x-r-source",
   "name": "R",
   "pygments_lexer": "r",
   "version": "4.0.5"
  },
  "papermill": {
   "default_parameters": {},
   "duration": 5.737447,
   "end_time": "2022-08-03T05:57:43.136839",
   "environment_variables": {},
   "exception": null,
   "input_path": "__notebook__.ipynb",
   "output_path": "__notebook__.ipynb",
   "parameters": {},
   "start_time": "2022-08-03T05:57:37.399392",
   "version": "2.3.4"
  }
 },
 "nbformat": 4,
 "nbformat_minor": 5
}
